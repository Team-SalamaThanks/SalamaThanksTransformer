{
 "cells": [
  {
   "cell_type": "code",
   "execution_count": null,
   "metadata": {},
   "outputs": [],
   "source": [
    "#Importing necessary APIs\n",
    "\n",
    "from transformers import AutoTokenizer, AutoModelForSeq2SeqLM"
   ]
  },
  {
   "cell_type": "code",
   "execution_count": null,
   "metadata": {},
   "outputs": [],
   "source": [
    "#Loading Transformer for Filipino-to-English Tasks\n",
    "\n",
    "model_checkpoint_fil2en = \"Helsinki-NLP/opus-mt-tl-en\"\n",
    "\n",
    "tokenizer_fil2en = AutoTokenizer.from_pretrained(model_checkpoint_fil2en)\n",
    "model_fil2en = AutoModelForSeq2SeqLM.from_pretrained(model_checkpoint_fil2en)"
   ]
  },
  {
   "cell_type": "code",
   "execution_count": null,
   "metadata": {},
   "outputs": [],
   "source": [
    "#Saving transformer Tasked with Filipino-to-English translation locally\n",
    "\n",
    "tokenizer_fil2en.save_pretrained(\"./v1/fil_to_en/v1.0\")\n",
    "model_fil2en.save_pretrained(\"./v1/fil_to_en/v1.0\")"
   ]
  }
 ],
 "metadata": {
  "kernelspec": {
   "display_name": "Python 3.9.7 ('.env': venv)",
   "language": "python",
   "name": "python3"
  },
  "language_info": {
   "codemirror_mode": {
    "name": "ipython",
    "version": 3
   },
   "file_extension": ".py",
   "mimetype": "text/x-python",
   "name": "python",
   "nbconvert_exporter": "python",
   "pygments_lexer": "ipython3",
   "version": "3.9.7"
  },
  "orig_nbformat": 4,
  "vscode": {
   "interpreter": {
    "hash": "05a3867fc7cb355168cd3069bbfa61f57b49db580b0a4f5d5e33f8a392c67a8a"
   }
  }
 },
 "nbformat": 4,
 "nbformat_minor": 2
}
