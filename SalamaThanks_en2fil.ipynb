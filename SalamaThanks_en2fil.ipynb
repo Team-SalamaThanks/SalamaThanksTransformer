{
 "cells": [
  {
   "cell_type": "code",
   "execution_count": null,
   "metadata": {},
   "outputs": [],
   "source": [
    "#Importing necessary APIs\n",
    "\n",
    "from transformers import AutoTokenizer, AutoModelForSeq2SeqLM"
   ]
  },
  {
   "cell_type": "code",
   "execution_count": null,
   "metadata": {},
   "outputs": [],
   "source": [
    "#Loading Tranformer for English-to-Filipino Tasks\n",
    "\n",
    "model_checkpoint_en2fil = \"Helsinki-NLP/opus-mt-en-tl\"\n",
    "\n",
    "tokenizer_en2fil = AutoTokenizer.from_pretrained(model_checkpoint_en2fil)\n",
    "model_en2fil = AutoModelForSeq2SeqLM.from_pretrained(model_checkpoint_en2fil)"
   ]
  },
  {
   "cell_type": "code",
   "execution_count": null,
   "metadata": {},
   "outputs": [],
   "source": [
    "#Saving transformer Tasked with English-to-Filipino translation locally\n",
    "\n",
    "tokenizer_en2fil.save_pretrained(\"./v1/en_to_fil/v1.0\")\n",
    "model_en2fil.save_pretrained(\"./v1/en_to_fil/v1.0\")"
   ]
  }
 ],
 "metadata": {
  "kernelspec": {
   "display_name": "Python 3.9.7 ('.env': venv)",
   "language": "python",
   "name": "python3"
  },
  "language_info": {
   "codemirror_mode": {
    "name": "ipython",
    "version": 3
   },
   "file_extension": ".py",
   "mimetype": "text/x-python",
   "name": "python",
   "nbconvert_exporter": "python",
   "pygments_lexer": "ipython3",
   "version": "3.9.7"
  },
  "orig_nbformat": 4,
  "vscode": {
   "interpreter": {
    "hash": "05a3867fc7cb355168cd3069bbfa61f57b49db580b0a4f5d5e33f8a392c67a8a"
   }
  }
 },
 "nbformat": 4,
 "nbformat_minor": 2
}
